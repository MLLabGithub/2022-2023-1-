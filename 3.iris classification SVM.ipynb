{
 "cells": [
  {
   "cell_type": "code",
   "execution_count": 1,
   "id": "bc1162ed-2532-4c6e-a392-ba7f63e6be6b",
   "metadata": {},
   "outputs": [],
   "source": [
    "# import packages\n",
    "from sklearn import svm\n",
    "from sklearn.datasets import load_iris\n",
    "from sklearn.model_selection import train_test_split"
   ]
  },
  {
   "cell_type": "code",
   "execution_count": 2,
   "id": "7abc8ecc-c0ed-48b1-a2c6-b9cdcdbe0782",
   "metadata": {},
   "outputs": [],
   "source": [
    "# load dataset\n",
    "iris = load_iris()"
   ]
  },
  {
   "cell_type": "code",
   "execution_count": 3,
   "id": "322d6c76-f401-49b1-a854-56f7c3e02e6c",
   "metadata": {},
   "outputs": [],
   "source": [
    "# create samples and label\n",
    "X = iris['data']\n",
    "y = iris['target']"
   ]
  },
  {
   "cell_type": "code",
   "execution_count": 4,
   "id": "86bb7513-c868-494f-876c-f567c5367e50",
   "metadata": {},
   "outputs": [],
   "source": [
    "# Split Training set and Test set\n",
    "X_train, X_test, y_train, y_test = train_test_split(X, y, train_size=0.8, random_state=123)"
   ]
  },
  {
   "cell_type": "code",
   "execution_count": 5,
   "id": "96209806-8ced-4b7a-b2c3-ed7f545b443f",
   "metadata": {},
   "outputs": [],
   "source": [
    "# create SVC object\n",
    "clf = svm.SVC()"
   ]
  },
  {
   "cell_type": "code",
   "execution_count": 6,
   "id": "3478efdf-d088-4036-adc2-5a1e31b4da9d",
   "metadata": {},
   "outputs": [
    {
     "data": {
      "text/plain": [
       "SVC()"
      ]
     },
     "execution_count": 6,
     "metadata": {},
     "output_type": "execute_result"
    }
   ],
   "source": [
    "# Training the model\n",
    "clf.fit(X_train, y_train)     # Training the model"
   ]
  },
  {
   "cell_type": "code",
   "execution_count": 7,
   "id": "4d17b8f7-ef66-4b0c-a741-4c2d2e20f1e9",
   "metadata": {},
   "outputs": [
    {
     "data": {
      "text/plain": [
       "0.9666666666666667"
      ]
     },
     "execution_count": 7,
     "metadata": {},
     "output_type": "execute_result"
    }
   ],
   "source": [
    "# Evaluate the model\n",
    "clf.score(X_test, y_test)"
   ]
  },
  {
   "cell_type": "code",
   "execution_count": 9,
   "id": "ff036f28-12ed-4e4f-ab85-cba023989eee",
   "metadata": {},
   "outputs": [
    {
     "data": {
      "text/plain": [
       "(array([6.3, 2.5, 4.9, 1.5]), 1)"
      ]
     },
     "execution_count": 9,
     "metadata": {},
     "output_type": "execute_result"
    }
   ],
   "source": [
    "X_test[0], y_test[0]"
   ]
  },
  {
   "cell_type": "code",
   "execution_count": 10,
   "id": "8e84af5f",
   "metadata": {},
   "outputs": [
    {
     "data": {
      "text/plain": [
       "array([[6.3, 2.5, 4.9, 1.5]])"
      ]
     },
     "execution_count": 10,
     "metadata": {},
     "output_type": "execute_result"
    }
   ],
   "source": [
    "X_test[0].reshape(-1,4)"
   ]
  },
  {
   "cell_type": "code",
   "execution_count": 12,
   "id": "d92fe38e-8ab9-4829-836e-387bf178230c",
   "metadata": {},
   "outputs": [
    {
     "data": {
      "text/plain": [
       "array([1])"
      ]
     },
     "execution_count": 12,
     "metadata": {},
     "output_type": "execute_result"
    }
   ],
   "source": [
    "clf.predict(X_test[0].reshape(-1,4))"
   ]
  },
  {
   "cell_type": "code",
   "execution_count": 28,
   "id": "b161a041-62be-40b5-b15f-16cab5ad5af3",
   "metadata": {},
   "outputs": [
    {
     "data": {
      "text/plain": [
       "(array([5. , 3.6, 1.4, 0.2]), 0)"
      ]
     },
     "execution_count": 28,
     "metadata": {},
     "output_type": "execute_result"
    }
   ],
   "source": [
    "X_test[29], y_test[29]"
   ]
  },
  {
   "cell_type": "code",
   "execution_count": 29,
   "id": "2afe784d-35ca-4782-8bc1-cb272f0a2961",
   "metadata": {},
   "outputs": [
    {
     "data": {
      "text/plain": [
       "array([0])"
      ]
     },
     "execution_count": 29,
     "metadata": {},
     "output_type": "execute_result"
    }
   ],
   "source": [
    "clf.predict(X_test[29].reshape(-1,4))"
   ]
  },
  {
   "cell_type": "code",
   "execution_count": null,
   "id": "e6565999-7510-43b7-8e40-10e0d2db5cbe",
   "metadata": {},
   "outputs": [],
   "source": [
    "# view the support vectors"
   ]
  }
 ],
 "metadata": {
  "kernelspec": {
   "display_name": "Python 3 (ipykernel)",
   "language": "python",
   "name": "python3"
  },
  "language_info": {
   "codemirror_mode": {
    "name": "ipython",
    "version": 3
   },
   "file_extension": ".py",
   "mimetype": "text/x-python",
   "name": "python",
   "nbconvert_exporter": "python",
   "pygments_lexer": "ipython3",
   "version": "3.9.12"
  }
 },
 "nbformat": 4,
 "nbformat_minor": 5
}
