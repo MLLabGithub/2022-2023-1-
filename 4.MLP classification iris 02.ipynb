{
 "cells": [
  {
   "cell_type": "code",
   "execution_count": 35,
   "id": "316c5304-2a74-4fc8-ba04-b97b7dde85e2",
   "metadata": {},
   "outputs": [],
   "source": [
    "# import packages\n",
    "from sklearn.neural_network import MLPClassifier\n",
    "from sklearn.datasets import load_iris\n",
    "# from sklearn.datasets import load_digits\n",
    "from sklearn.model_selection import train_test_split"
   ]
  },
  {
   "cell_type": "code",
   "execution_count": 36,
   "id": "1e07567c-2f5d-46da-a6d2-0840ee725b62",
   "metadata": {},
   "outputs": [],
   "source": [
    "# load the dataset\n",
    "iris = load_iris()\n",
    "# digits=load_digits()"
   ]
  },
  {
   "cell_type": "code",
   "execution_count": 37,
   "id": "c6a25828-7467-44f0-9ae2-6b88e8924ef6",
   "metadata": {},
   "outputs": [],
   "source": [
    "# Create the samples and labels\n",
    "X = iris['data']\n",
    "y = iris['target']\n",
    "# X = digits['data']\n",
    "# y = digits['target']"
   ]
  },
  {
   "cell_type": "code",
   "execution_count": 38,
   "id": "604bd54f-8741-402b-9045-fb64d217c418",
   "metadata": {},
   "outputs": [],
   "source": [
    "# Split the training set and test set\n",
    "X_train, X_test, y_train, y_test = train_test_split(X, y, test_size=0.2, random_state=123)"
   ]
  },
  {
   "cell_type": "code",
   "execution_count": 39,
   "id": "36b71b3b-7668-4d5b-a863-70b53e2f7cc1",
   "metadata": {},
   "outputs": [],
   "source": [
    "# initialize the neural network. hidden_layer is 2, 4 neurons, 5 neurons respectively. epoch is 100000, optimization method is adam. alpha is 1e-5\n",
    "# MLP多层感知机\n",
    "# hidden_layer_sizes=(4,5)：第一层隐藏层有4个神经元，第二层隐藏层有5个神经元\n",
    "# activation：激活函数，{‘identity’, ‘logistic’, ‘tanh’, ‘relu’}，分别是y=x, y=sigmoid(x), y=tanh(x)和y=max(0, x)，默认relu\n",
    "# solver：权重优化方法，{‘lbfgs’, ‘sgd’, ‘adam’}，分别是牛顿法、随机梯度下降和机遇随机梯度下降，大数据集（几千个样本）用'adam'，一般数据集及小数据集用'lbfgs'效果较好，速度较快，默认'adam'\n",
    "# alpha：正则化项参数，防止过拟合，正则化系数越大则正则化力度越大，默认0.0001。\n",
    "# learning_rate：学习率，仅当solver='sgd'时使用，{‘constant’，’invscaling’, ‘adaptive’}，默认constant\n",
    "# max_iter：最大迭代次数\n",
    "# random_state:int 随机数生成器的状态或种子，默认None。 \n",
    "\n",
    "#‘incscaling’：随着时间t使用’power_t’的逆标度指数不断降低学习率learning_rate_ ，effective_learning_rate = learning_rate_init / pow(t, power_t) \n",
    "#‘adaptive’：只要训练损耗在下降，就保持学习率为’learning_rate_init’不变，当连续两次不能降低训练损耗或验证分数停止升高至少tol时，将当前学习率除以5. \n",
    "# tol：优化的容忍度，默认1e-4\n",
    "\n",
    "clf = MLPClassifier(solver='adam', alpha=1e-5, hidden_layer_sizes=(4,5), random_state=1, max_iter=100000) \n"
   ]
  },
  {
   "cell_type": "code",
   "execution_count": 40,
   "id": "f5b065eb-f8a5-4e44-b93b-becf89f86c02",
   "metadata": {},
   "outputs": [
    {
     "data": {
      "text/plain": [
       "MLPClassifier(alpha=1e-05, hidden_layer_sizes=(4, 5), max_iter=100000,\n",
       "              random_state=1)"
      ]
     },
     "execution_count": 40,
     "metadata": {},
     "output_type": "execute_result"
    }
   ],
   "source": [
    "# Training the model\n",
    "clf.fit(X_train, y_train)"
   ]
  },
  {
   "cell_type": "code",
   "execution_count": 41,
   "id": "7cc8a1f8-44ce-4d3c-97c2-f1baf0a36d14",
   "metadata": {},
   "outputs": [
    {
     "data": {
      "text/plain": [
       "0.9333333333333333"
      ]
     },
     "execution_count": 41,
     "metadata": {},
     "output_type": "execute_result"
    }
   ],
   "source": [
    "# Evaluate the model\n",
    "clf.score(X_test, y_test)"
   ]
  },
  {
   "cell_type": "code",
   "execution_count": 42,
   "id": "d356cd2e-ecfa-4015-8ef9-3b405cfabc02",
   "metadata": {},
   "outputs": [
    {
     "data": {
      "text/plain": [
       "(array([5.5, 2.6, 4.4, 1.2]), 1)"
      ]
     },
     "execution_count": 42,
     "metadata": {},
     "output_type": "execute_result"
    }
   ],
   "source": [
    "X_test[9],y_test[9]"
   ]
  },
  {
   "cell_type": "code",
   "execution_count": 43,
   "id": "5d70ba99-f10c-458b-b8e3-7b9d10c468ba",
   "metadata": {},
   "outputs": [
    {
     "data": {
      "text/plain": [
       "array([1])"
      ]
     },
     "execution_count": 43,
     "metadata": {},
     "output_type": "execute_result"
    }
   ],
   "source": [
    "# Model predict\n",
    "clf.predict(X_test[9].reshape(-1,4))"
   ]
  },
  {
   "cell_type": "code",
   "execution_count": 44,
   "id": "3ecc41bc-baee-4836-aede-335928b84109",
   "metadata": {},
   "outputs": [
    {
     "data": {
      "text/plain": [
       "(array([5.5, 3.5, 1.3, 0.2]), 0)"
      ]
     },
     "execution_count": 44,
     "metadata": {},
     "output_type": "execute_result"
    }
   ],
   "source": [
    "X_test[16],y_test[16]"
   ]
  },
  {
   "cell_type": "code",
   "execution_count": 45,
   "id": "b70ad1d7-277d-44c0-90d6-ad04f0add4d3",
   "metadata": {},
   "outputs": [
    {
     "data": {
      "text/plain": [
       "array([0])"
      ]
     },
     "execution_count": 45,
     "metadata": {},
     "output_type": "execute_result"
    }
   ],
   "source": [
    "clf.predict(X_test[16].reshape(-1,4))"
   ]
  },
  {
   "cell_type": "code",
   "execution_count": 46,
   "id": "4ec2185f-a684-4358-ae3b-24af1f34f219",
   "metadata": {},
   "outputs": [
    {
     "data": {
      "text/plain": [
       "[(4, 4), (4, 5), (5, 3)]"
      ]
     },
     "execution_count": 46,
     "metadata": {},
     "output_type": "execute_result"
    }
   ],
   "source": [
    "# coefs_:列表中的第i个元素表示i层的权重矩阵\n",
    "[coef.shape for coef in clf.coefs_]"
   ]
  },
  {
   "cell_type": "code",
   "execution_count": null,
   "id": "aa5e7b82-2fe6-4b69-84c0-f4f5cac960b7",
   "metadata": {},
   "outputs": [],
   "source": []
  }
 ],
 "metadata": {
  "kernelspec": {
   "display_name": "Python 3 (ipykernel)",
   "language": "python",
   "name": "python3"
  },
  "language_info": {
   "codemirror_mode": {
    "name": "ipython",
    "version": 3
   },
   "file_extension": ".py",
   "mimetype": "text/x-python",
   "name": "python",
   "nbconvert_exporter": "python",
   "pygments_lexer": "ipython3",
   "version": "3.9.12"
  }
 },
 "nbformat": 4,
 "nbformat_minor": 5
}
