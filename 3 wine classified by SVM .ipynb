{
 "cells": [
  {
   "cell_type": "code",
   "execution_count": 1,
   "id": "2fbb3985-f792-4e11-82e2-5fe082ee57a8",
   "metadata": {},
   "outputs": [],
   "source": [
    "# import packages\n",
    "from sklearn import svm\n",
    "from sklearn.datasets import load_iris, load_wine\n",
    "from sklearn.model_selection import train_test_split"
   ]
  },
  {
   "cell_type": "code",
   "execution_count": 2,
   "id": "389f7551-4c8d-4a4f-b83e-b523ff4853ac",
   "metadata": {},
   "outputs": [],
   "source": [
    "# load dataset\n",
    "iris = load_wine()\n",
    "\n",
    "# create samples and label\n",
    "X = iris['data']\n",
    "y = iris['target']"
   ]
  },
  {
   "cell_type": "code",
   "execution_count": 4,
   "id": "2978f197-f1ba-49b2-9a7a-a58219a35e87",
   "metadata": {},
   "outputs": [
    {
     "data": {
      "text/plain": [
       "array([1.349e+01, 3.590e+00, 2.190e+00, 1.950e+01, 8.800e+01, 1.620e+00,\n",
       "       4.800e-01, 5.800e-01, 8.800e-01, 5.700e+00, 8.100e-01, 1.820e+00,\n",
       "       5.800e+02])"
      ]
     },
     "execution_count": 4,
     "metadata": {},
     "output_type": "execute_result"
    }
   ],
   "source": [
    "# Split Training set and Test set\n",
    "X_train, X_test, y_train, y_test = train_test_split(X, y, train_size=0.8, random_state=123)\n",
    "X_test[0]"
   ]
  },
  {
   "cell_type": "code",
   "execution_count": 141,
   "id": "f72fa14c-275a-4f34-a060-582440df4f90",
   "metadata": {},
   "outputs": [],
   "source": [
    "# create SVC object\n",
    "# 线性核函数\n",
    "clf1 = svm.SVC(kernel='linear')\n",
    "# 多项式核函数\n",
    "# tol：残差收敛条件，默认是0.0001\n",
    "# C：惩罚系数，用来控制损失函数的惩罚系数，默认为1。错误项的惩罚系数。\n",
    "# C越大，即对分错样本的惩罚程度越大，因此在训练样本中准确率越高，但是泛化能力降低，也就是对测试数据的分类准确率降低。\n",
    "# 相反，减少C的话，容许训练样本中有一些误分类错误样本，泛化能力强。对于训练样本带有噪音的情况，一般采用后者。\n",
    "# degree：当核函数是多项式核函数（“poly”）的时候，用来控制函数的最高次数。这个参数只对多项式核函数有用，是指多项式核函数的阶数 n。\n",
    "# gamma：核函数系数，默认是“auto”，即特征维度的倒数。\n",
    "# max_iter：最大迭代次数，默认为1000.\n",
    "clf2 = svm.SVC(kernel='poly', C=1, tol=1e-5, gamma=0.7)\n",
    "clf3 = svm.LinearSVC(C=1.0, max_iter=1000)\n",
    "clf4 = svm.SVC()"
   ]
  },
  {
   "cell_type": "code",
   "execution_count": 142,
   "id": "1dd0a19f-d2a9-4845-898a-2af00bea0861",
   "metadata": {},
   "outputs": [
    {
     "name": "stderr",
     "output_type": "stream",
     "text": [
      "/srv/conda/envs/notebook/lib/python3.7/site-packages/sklearn/svm/_base.py:1201: ConvergenceWarning: Liblinear failed to converge, increase the number of iterations.\n",
      "  ConvergenceWarning,\n"
     ]
    },
    {
     "data": {
      "text/plain": [
       "SVC()"
      ]
     },
     "execution_count": 142,
     "metadata": {},
     "output_type": "execute_result"
    }
   ],
   "source": [
    "# Training the model\n",
    "clf1.fit(X_train, y_train)     # Training the model\n",
    "clf2.fit(X_train,y_train)\n",
    "clf3.fit(X_train,y_train)\n",
    "clf4.fit(X_train,y_train)"
   ]
  },
  {
   "cell_type": "code",
   "execution_count": 143,
   "id": "3189dfd7-d403-485d-b47c-87bfa088a43e",
   "metadata": {},
   "outputs": [
    {
     "data": {
      "text/plain": [
       "(0.9444444444444444, 0.8888888888888888, 0.9444444444444444, 0.5)"
      ]
     },
     "execution_count": 143,
     "metadata": {},
     "output_type": "execute_result"
    }
   ],
   "source": [
    "# Evaluate the model\n",
    "clf1.score(X_test, y_test), clf2.score(X_test, y_test), clf3.score(X_test, y_test), clf4.score(X_test, y_test) "
   ]
  },
  {
   "cell_type": "code",
   "execution_count": 145,
   "id": "bfd2dcdd-dfda-417b-8d8c-34e60c06e6cf",
   "metadata": {},
   "outputs": [
    {
     "name": "stdout",
     "output_type": "stream",
     "text": [
      "Number of mislabeled points out of a total 36 points : 2\n",
      "Number of mislabeled points out of a total 36 points : 4\n",
      "Number of mislabeled points out of a total 36 points : 2\n",
      "Number of mislabeled points out of a total 36 points : 18\n"
     ]
    }
   ],
   "source": [
    "y_pred1 = clf1.predict(X_test)\n",
    "y_pred2 = clf2.predict(X_test)\n",
    "y_pred3 = clf3.predict(X_test)\n",
    "y_pred4 = clf4.predict(X_test)\n",
    "print(\"Number of mislabeled points out of a total %d points : %d\"\n",
    "     % (X_test.shape[0], (y_test != y_pred1).sum()))\n",
    "print(\"Number of mislabeled points out of a total %d points : %d\"\n",
    "     % (X_test.shape[0], (y_test != y_pred2).sum()))\n",
    "\n",
    "print(\"Number of mislabeled points out of a total %d points : %d\"\n",
    "     % (X_test.shape[0], (y_test != y_pred3).sum()))\n",
    "\n",
    "\n",
    "print(\"Number of mislabeled points out of a total %d points : %d\"\n",
    "     % (X_test.shape[0], (y_test != y_pred4).sum()))"
   ]
  },
  {
   "cell_type": "code",
   "execution_count": 122,
   "id": "bb46a377-4359-4b33-9225-c0812ff1d255",
   "metadata": {},
   "outputs": [
    {
     "data": {
      "text/plain": [
       "(array([ 12,  24,  76,  80,  42,  69,  93, 121, 123, 128, 132, 134, 136,\n",
       "         15,  16,  35,  50,  52,  54,  79], dtype=int32),\n",
       " array([  6,   7,   9,  12,  24,  25,  33,  57,  66,  76,  80, 116,   8,\n",
       "         11,  13,  14,  19,  26,  32,  34,  40,  41,  42,  46,  47,  48,\n",
       "         56,  59,  61,  69,  78,  86,  93,  99, 107, 117, 121, 123, 128,\n",
       "        132, 135, 136, 138, 139, 141,   0,   4,   5,  15,  16,  30,  35,\n",
       "         39,  43,  49,  50,  52,  53,  54,  55,  72,  74,  77,  79,  84,\n",
       "         92, 100, 101, 112, 113, 114, 115, 122, 124, 125, 130], dtype=int32))"
      ]
     },
     "execution_count": 122,
     "metadata": {},
     "output_type": "execute_result"
    }
   ],
   "source": [
    "#支持向量索引\n",
    "clf1.support_, clf2.support_,"
   ]
  },
  {
   "cell_type": "code",
   "execution_count": 124,
   "id": "a4b212d6-83d5-4dd0-a034-535082c6e25c",
   "metadata": {},
   "outputs": [
    {
     "data": {
      "text/plain": [
       "(array([4, 9, 7], dtype=int32), array([12, 33, 31], dtype=int32))"
      ]
     },
     "execution_count": 124,
     "metadata": {},
     "output_type": "execute_result"
    }
   ],
   "source": [
    "#每个类别支持向量的个数\n",
    "clf1.n_support_, clf2.n_support_ #, clf3.n_supports_"
   ]
  },
  {
   "cell_type": "code",
   "execution_count": 38,
   "id": "3abcc09b-225e-47d6-8d1a-c0df8e2f4f64",
   "metadata": {},
   "outputs": [
    {
     "data": {
      "text/plain": [
       "(array([[1.423e+01, 1.710e+00, 2.430e+00, ..., 1.040e+00, 3.920e+00,\n",
       "         1.065e+03],\n",
       "        [1.320e+01, 1.780e+00, 2.140e+00, ..., 1.050e+00, 3.400e+00,\n",
       "         1.050e+03],\n",
       "        [1.316e+01, 2.360e+00, 2.670e+00, ..., 1.030e+00, 3.170e+00,\n",
       "         1.185e+03],\n",
       "        ...,\n",
       "        [1.327e+01, 4.280e+00, 2.260e+00, ..., 5.900e-01, 1.560e+00,\n",
       "         8.350e+02],\n",
       "        [1.317e+01, 2.590e+00, 2.370e+00, ..., 6.000e-01, 1.620e+00,\n",
       "         8.400e+02],\n",
       "        [1.413e+01, 4.100e+00, 2.740e+00, ..., 6.100e-01, 1.600e+00,\n",
       "         5.600e+02]]),\n",
       " array([0, 0, 0, 0, 0, 0, 0, 0, 0, 0, 0, 0, 0, 0, 0, 0, 0, 0, 0, 0, 0, 0,\n",
       "        0, 0, 0, 0, 0, 0, 0, 0, 0, 0, 0, 0, 0, 0, 0, 0, 0, 0, 0, 0, 0, 0,\n",
       "        0, 0, 0, 0, 0, 0, 0, 0, 0, 0, 0, 0, 0, 0, 0, 1, 1, 1, 1, 1, 1, 1,\n",
       "        1, 1, 1, 1, 1, 1, 1, 1, 1, 1, 1, 1, 1, 1, 1, 1, 1, 1, 1, 1, 1, 1,\n",
       "        1, 1, 1, 1, 1, 1, 1, 1, 1, 1, 1, 1, 1, 1, 1, 1, 1, 1, 1, 1, 1, 1,\n",
       "        1, 1, 1, 1, 1, 1, 1, 1, 1, 1, 1, 1, 1, 1, 1, 1, 1, 1, 1, 1, 2, 2,\n",
       "        2, 2, 2, 2, 2, 2, 2, 2, 2, 2, 2, 2, 2, 2, 2, 2, 2, 2, 2, 2, 2, 2,\n",
       "        2, 2, 2, 2, 2, 2, 2, 2, 2, 2, 2, 2, 2, 2, 2, 2, 2, 2, 2, 2, 2, 2,\n",
       "        2, 2]))"
      ]
     },
     "execution_count": 38,
     "metadata": {},
     "output_type": "execute_result"
    }
   ],
   "source": [
    "X, y"
   ]
  },
  {
   "cell_type": "code",
   "execution_count": 125,
   "id": "c4e938b3-84bb-4d3c-a34b-be40e1c1ebf4",
   "metadata": {},
   "outputs": [
    {
     "data": {
      "text/plain": [
       "(array([1.349e+01, 3.590e+00, 2.190e+00, 1.950e+01, 8.800e+01, 1.620e+00,\n",
       "        4.800e-01, 5.800e-01, 8.800e-01, 5.700e+00, 8.100e-01, 1.820e+00,\n",
       "        5.800e+02]),\n",
       " 2)"
      ]
     },
     "execution_count": 125,
     "metadata": {},
     "output_type": "execute_result"
    }
   ],
   "source": [
    "X_test[0], y_test[0]"
   ]
  },
  {
   "cell_type": "code",
   "execution_count": 11,
   "id": "84671fd9-f01d-4b49-94e3-73bcf41d6d64",
   "metadata": {},
   "outputs": [
    {
     "data": {
      "text/plain": [
       "array([[6.3, 2.5, 4.9, 1.5]])"
      ]
     },
     "execution_count": 11,
     "metadata": {},
     "output_type": "execute_result"
    }
   ],
   "source": [
    "X_test[0].reshape(-1,4)"
   ]
  },
  {
   "cell_type": "code",
   "execution_count": 126,
   "id": "105ff5c7-e0c1-46d2-955a-759fed91a322",
   "metadata": {},
   "outputs": [
    {
     "data": {
      "text/plain": [
       "array([1, 1, 1, 1, 1, 1, 0, 1, 1, 1, 1, 1, 1, 0, 0, 1, 1, 1, 0, 1, 1, 1,\n",
       "       1, 1, 1, 1, 0, 0, 0, 0, 0, 0, 1, 1, 1, 1])"
      ]
     },
     "execution_count": 126,
     "metadata": {},
     "output_type": "execute_result"
    }
   ],
   "source": [
    "clf.predict(X_test)"
   ]
  },
  {
   "cell_type": "code",
   "execution_count": 9,
   "id": "93631305-a15e-4d15-b366-5574e2cf20f2",
   "metadata": {},
   "outputs": [
    {
     "data": {
      "text/plain": [
       "array([1, 2, 2, 1, 0, 2, 1, 0, 0, 1, 2, 0, 1, 2, 2, 2, 0, 0, 1, 0, 0, 2,\n",
       "       0, 2, 0, 0, 0, 2, 2, 0])"
      ]
     },
     "execution_count": 9,
     "metadata": {},
     "output_type": "execute_result"
    }
   ],
   "source": [
    "y_test"
   ]
  },
  {
   "cell_type": "code",
   "execution_count": 127,
   "id": "a3992a8b-608d-4b47-991c-ccf99988eb83",
   "metadata": {},
   "outputs": [
    {
     "data": {
      "text/plain": [
       "array([0])"
      ]
     },
     "execution_count": 127,
     "metadata": {},
     "output_type": "execute_result"
    }
   ],
   "source": [
    "clf.predict(X_test[29].reshape(-1, 13))"
   ]
  },
  {
   "cell_type": "code",
   "execution_count": 128,
   "id": "92a95132-193c-46ec-840c-4dcd1367c3ac",
   "metadata": {},
   "outputs": [
    {
     "data": {
      "text/plain": [
       "array([[1.328e+01, 1.640e+00, 2.840e+00, ..., 1.090e+00, 2.780e+00,\n",
       "        8.800e+02],\n",
       "       [1.406e+01, 1.630e+00, 2.280e+00, ..., 1.090e+00, 3.710e+00,\n",
       "        7.800e+02],\n",
       "       [1.387e+01, 1.900e+00, 2.800e+00, ..., 1.250e+00, 3.400e+00,\n",
       "        9.150e+02],\n",
       "       ...,\n",
       "       [1.416e+01, 2.510e+00, 2.480e+00, ..., 6.200e-01, 1.710e+00,\n",
       "        6.600e+02],\n",
       "       [1.323e+01, 3.300e+00, 2.280e+00, ..., 5.600e-01, 1.510e+00,\n",
       "        6.750e+02],\n",
       "       [1.317e+01, 2.590e+00, 2.370e+00, ..., 6.000e-01, 1.620e+00,\n",
       "        8.400e+02]])"
      ]
     },
     "execution_count": 128,
     "metadata": {},
     "output_type": "execute_result"
    }
   ],
   "source": [
    "# 返回支持向量\n",
    "clf.support_vectors_"
   ]
  },
  {
   "cell_type": "code",
   "execution_count": 134,
   "id": "9f1b3982-1472-439d-8aa2-3950c24b91d6",
   "metadata": {},
   "outputs": [
    {
     "data": {
      "text/plain": [
       "array([ 12,  24,  76,  80,  42,  69,  93, 121, 123, 128, 132, 134, 136,\n",
       "        15,  16,  35,  50,  52,  54,  79], dtype=int32)"
      ]
     },
     "execution_count": 134,
     "metadata": {},
     "output_type": "execute_result"
    }
   ],
   "source": [
    "#支持向量索引\n",
    "clf1.support_"
   ]
  },
  {
   "cell_type": "code",
   "execution_count": 133,
   "id": "0d69cb2a-b8b7-4557-8888-2d814aaeb6e1",
   "metadata": {},
   "outputs": [
    {
     "data": {
      "text/plain": [
       "array([4, 9, 7], dtype=int32)"
      ]
     },
     "execution_count": 133,
     "metadata": {},
     "output_type": "execute_result"
    }
   ],
   "source": [
    "#每个类别支持向量的个数\n",
    "clf1.n_support_"
   ]
  },
  {
   "cell_type": "code",
   "execution_count": 132,
   "id": "2fb07b4e-ec81-43d9-9e3b-470ba6da5496",
   "metadata": {},
   "outputs": [
    {
     "data": {
      "text/plain": [
       "(array([[ 0.6667686 ,  0.39253552,  1.        ,  0.        , -0.        ,\n",
       "         -0.80844864, -0.        , -0.17431805, -0.20156358, -0.81040285,\n",
       "         -0.        , -0.06457099, -0.        , -0.05331733, -0.04283262,\n",
       "         -0.10956575, -0.        , -0.07711276, -0.        , -0.        ],\n",
       "        [ 0.        ,  0.12099727,  0.        ,  0.16183119,  0.80182413,\n",
       "          0.        ,  0.42903575,  0.16080237,  0.        ,  0.        ,\n",
       "          0.55282748,  0.        ,  0.31991708, -0.        , -0.        ,\n",
       "         -1.        , -0.26210971, -0.        , -1.        , -0.0022971 ]]),\n",
       " array([-19.0187348 ,  -4.64957487,  20.56503807]),\n",
       " 'linear',\n",
       " array([0, 1, 2]))"
      ]
     },
     "execution_count": 132,
     "metadata": {},
     "output_type": "execute_result"
    }
   ],
   "source": [
    "# 支持向量系数，截距值（常数值）（偏置参数，即b），\n",
    "clf1.dual_coef_, clf1.intercept_, clf1.kernel,clf1.classes_"
   ]
  },
  {
   "cell_type": "code",
   "execution_count": null,
   "id": "c9d8d3b1-fde2-4b43-8016-06bf623e1aeb",
   "metadata": {},
   "outputs": [],
   "source": [
    "# C=1.0\n",
    "# models = svm.SVC(kernel='linear', C=C),\n",
    "#          svm.LinearSVC(C=C, max_iter=10000),\n",
    "#          svm.SVC(kernel='rbf', gamma=0.7, C=C),\n",
    "#          svm.SVC(kernel='poly', degree=3, gamma='auto', C=C))"
   ]
  }
 ],
 "metadata": {
  "kernelspec": {
   "display_name": "Python 3 (ipykernel)",
   "language": "python",
   "name": "python3"
  },
  "language_info": {
   "codemirror_mode": {
    "name": "ipython",
    "version": 3
   },
   "file_extension": ".py",
   "mimetype": "text/x-python",
   "name": "python",
   "nbconvert_exporter": "python",
   "pygments_lexer": "ipython3",
   "version": "3.9.12"
  }
 },
 "nbformat": 4,
 "nbformat_minor": 5
}
