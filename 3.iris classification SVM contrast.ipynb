{
 "cells": [
  {
   "cell_type": "code",
   "execution_count": 2,
   "id": "20d0c111-931e-48f9-bbc3-f928a1b96637",
   "metadata": {},
   "outputs": [],
   "source": [
    "# import\n",
    "from sklearn import svm"
   ]
  },
  {
   "cell_type": "code",
   "execution_count": 3,
   "id": "4d66274b-96a5-4c6c-8aa6-3f900bba7bfb",
   "metadata": {},
   "outputs": [],
   "source": [
    "from sklearn import datasets\n",
    "iris = datasets.load_iris()"
   ]
  },
  {
   "cell_type": "code",
   "execution_count": 5,
   "id": "e9af8983-af97-49d7-bebd-9335c4a780d2",
   "metadata": {},
   "outputs": [],
   "source": [
    "X_train = iris.data\n",
    "y_train = iris.target"
   ]
  },
  {
   "cell_type": "code",
   "execution_count": 6,
   "id": "49a13729-11f1-46bc-b8d3-10b8d7fae678",
   "metadata": {},
   "outputs": [],
   "source": [
    "clf_linear = svm.SVC(C=1.0, kernel='linear')"
   ]
  },
  {
   "cell_type": "code",
   "execution_count": 7,
   "id": "bb7a8e0b-6602-4dd6-8b17-77ff8d1e2991",
   "metadata": {},
   "outputs": [],
   "source": [
    "clf_poly = svm.SVC(C=1.0, kernel='poly', degree=3)\n",
    "clf_rbf = svm.SVC(C=1.0, kernel='rbf', gamma=0.5)\n",
    "clf_rbf2 = svm.SVC(C=1.0, kernel='rbf', gamma=0.1)"
   ]
  },
  {
   "cell_type": "code",
   "execution_count": 10,
   "id": "e03d42fc-62d0-4bb7-9007-a9d3fbc33f0c",
   "metadata": {},
   "outputs": [],
   "source": [
    "clfs = [clf_linear, clf_poly, clf_rbf, clf_rbf2]\n",
    "titles = ['Linear Kernel:', 'Polynomial Kernel with Degree=3:', 'Gaussian Kernel with gamma=0.5:',\n",
    "         'Gaussian Kernel with gamma=0.1:']"
   ]
  },
  {
   "cell_type": "code",
   "execution_count": 12,
   "id": "45e09384-00e2-448b-900c-c117d53f6f1f",
   "metadata": {},
   "outputs": [
    {
     "name": "stdout",
     "output_type": "stream",
     "text": [
      "Linear Kernel: 0.9933333333333333\n",
      "Polynomial Kernel with Degree=3: 0.9733333333333334\n",
      "Gaussian Kernel with gamma=0.5: 0.98\n",
      "Gaussian Kernel with gamma=0.1: 0.98\n"
     ]
    }
   ],
   "source": [
    "for clf, i in zip(clfs, range(len(clfs))):\n",
    "    clf.fit(X_train, y_train)\n",
    "    print(titles[i], clf.score(X_train, y_train))"
   ]
  }
 ],
 "metadata": {
  "kernelspec": {
   "display_name": "Python 3 (ipykernel)",
   "language": "python",
   "name": "python3"
  },
  "language_info": {
   "codemirror_mode": {
    "name": "ipython",
    "version": 3
   },
   "file_extension": ".py",
   "mimetype": "text/x-python",
   "name": "python",
   "nbconvert_exporter": "python",
   "pygments_lexer": "ipython3",
   "version": "3.7.10"
  }
 },
 "nbformat": 4,
 "nbformat_minor": 5
}
