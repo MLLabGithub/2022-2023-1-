{
 "cells": [
  {
   "cell_type": "code",
   "execution_count": 3,
   "id": "4f0209a3-1837-4705-8e76-5a9052eb9391",
   "metadata": {},
   "outputs": [],
   "source": [
    "# read data from CSV file.\n",
    "import pandas as pd\n",
    "import matplotlib.pyplot as plt\n",
    "import numpy as np\n",
    "import csv"
   ]
  },
  {
   "cell_type": "code",
   "execution_count": 6,
   "id": "c26ccd82-e6a1-4845-a662-ffb2cae4dd66",
   "metadata": {},
   "outputs": [],
   "source": [
    "data = pd.read_csv('creditcard.csv')"
   ]
  },
  {
   "cell_type": "code",
   "execution_count": 7,
   "id": "4a616bfd-8a97-49b8-a662-aff37ab4a744",
   "metadata": {},
   "outputs": [],
   "source": [
    "data = data.drop(['Time', 'Amount'], axis=1)"
   ]
  },
  {
   "cell_type": "code",
   "execution_count": 8,
   "id": "9f162b1a-40e7-4d96-8eee-dd2948320a2f",
   "metadata": {},
   "outputs": [
    {
     "name": "stdout",
     "output_type": "stream",
     "text": [
      "         V1        V2        V3        V4        V5        V6        V7  \\\n",
      "0 -1.359807 -0.072781  2.536347  1.378155 -0.338321  0.462388  0.239599   \n",
      "1  1.191857  0.266151  0.166480  0.448154  0.060018 -0.082361 -0.078803   \n",
      "2 -1.358354 -1.340163  1.773209  0.379780 -0.503198  1.800499  0.791461   \n",
      "3 -0.966272 -0.185226  1.792993 -0.863291 -0.010309  1.247203  0.237609   \n",
      "4 -1.158233  0.877737  1.548718  0.403034 -0.407193  0.095921  0.592941   \n",
      "\n",
      "         V8        V9       V10  ...       V20       V21       V22       V23  \\\n",
      "0  0.098698  0.363787  0.090794  ...  0.251412 -0.018307  0.277838 -0.110474   \n",
      "1  0.085102 -0.255425 -0.166974  ... -0.069083 -0.225775 -0.638672  0.101288   \n",
      "2  0.247676 -1.514654  0.207643  ...  0.524980  0.247998  0.771679  0.909412   \n",
      "3  0.377436 -1.387024 -0.054952  ... -0.208038 -0.108300  0.005274 -0.190321   \n",
      "4 -0.270533  0.817739  0.753074  ...  0.408542 -0.009431  0.798278 -0.137458   \n",
      "\n",
      "        V24       V25       V26       V27       V28  Class  \n",
      "0  0.066928  0.128539 -0.189115  0.133558 -0.021053    0.0  \n",
      "1 -0.339846  0.167170  0.125895 -0.008983  0.014724    0.0  \n",
      "2 -0.689281 -0.327642 -0.139097 -0.055353 -0.059752    0.0  \n",
      "3 -1.175575  0.647376 -0.221929  0.062723  0.061458    0.0  \n",
      "4  0.141267 -0.206010  0.502292  0.219422  0.215153    0.0  \n",
      "\n",
      "[5 rows x 29 columns]\n"
     ]
    }
   ],
   "source": [
    "print(data.head())"
   ]
  },
  {
   "cell_type": "code",
   "execution_count": 10,
   "id": "6ebc9251-7c5a-4561-9274-b9f03249ac06",
   "metadata": {},
   "outputs": [],
   "source": [
    "X = data.loc[:, data.columns != 'Class']\n",
    "y = data.loc[:, data.columns == 'Class']\n",
    "# 得到Class == 1的数量\n",
    "number_one = len(data[data['Class'] == 1])\n",
    "# 得到Class == 1的索引\n",
    "number_one_index = np.array(data[data['Class'] == 1].index)\n",
    "# 得到Class == 0的索引\n",
    "number_zero_index = data[data['Class'] == 0].index\n",
    "\n",
    "\n"
   ]
  },
  {
   "cell_type": "code",
   "execution_count": 12,
   "id": "81b0d8ea-09e9-46ea-b956-37c6c5567f07",
   "metadata": {},
   "outputs": [
    {
     "name": "stdout",
     "output_type": "stream",
     "text": [
      "2\n",
      "Class == 1的概率 0.5\n",
      "Class == 0的概率 0.5\n",
      "2\n"
     ]
    },
    {
     "ename": "NameError",
     "evalue": "name 'x_train' is not defined",
     "output_type": "error",
     "traceback": [
      "\u001b[0;31m---------------------------------------------------------------------------\u001b[0m",
      "\u001b[0;31mNameError\u001b[0m                                 Traceback (most recent call last)",
      "\u001b[0;32m/tmp/ipykernel_124/2628436835.py\u001b[0m in \u001b[0;36m<module>\u001b[0;34m\u001b[0m\n\u001b[1;32m     16\u001b[0m \u001b[0;32mfrom\u001b[0m \u001b[0msklearn\u001b[0m\u001b[0;34m.\u001b[0m\u001b[0mmodel_selection\u001b[0m \u001b[0;32mimport\u001b[0m \u001b[0mtrain_test_split\u001b[0m\u001b[0;34m\u001b[0m\u001b[0;34m\u001b[0m\u001b[0m\n\u001b[1;32m     17\u001b[0m \u001b[0mX_train\u001b[0m\u001b[0;34m,\u001b[0m \u001b[0mX_test\u001b[0m\u001b[0;34m,\u001b[0m \u001b[0my_train\u001b[0m\u001b[0;34m,\u001b[0m \u001b[0my_test\u001b[0m \u001b[0;34m=\u001b[0m \u001b[0mtrain_test_split\u001b[0m\u001b[0;34m(\u001b[0m\u001b[0mX\u001b[0m\u001b[0;34m,\u001b[0m \u001b[0my\u001b[0m\u001b[0;34m,\u001b[0m \u001b[0mtest_size\u001b[0m\u001b[0;34m=\u001b[0m\u001b[0;36m0.3\u001b[0m\u001b[0;34m,\u001b[0m \u001b[0mrandom_state\u001b[0m\u001b[0;34m=\u001b[0m\u001b[0;36m0\u001b[0m\u001b[0;34m)\u001b[0m\u001b[0;34m\u001b[0m\u001b[0;34m\u001b[0m\u001b[0m\n\u001b[0;32m---> 18\u001b[0;31m \u001b[0mprint\u001b[0m\u001b[0;34m(\u001b[0m\u001b[0;34m'训练样本特征数'\u001b[0m\u001b[0;34m,\u001b[0m \u001b[0mlen\u001b[0m\u001b[0;34m(\u001b[0m\u001b[0mx_train\u001b[0m\u001b[0;34m)\u001b[0m\u001b[0;34m)\u001b[0m\u001b[0;34m\u001b[0m\u001b[0;34m\u001b[0m\u001b[0m\n\u001b[0m\u001b[1;32m     19\u001b[0m \u001b[0mprint\u001b[0m\u001b[0;34m(\u001b[0m\u001b[0;34m'训练样本测试数'\u001b[0m\u001b[0;34m,\u001b[0m \u001b[0mlen\u001b[0m\u001b[0;34m(\u001b[0m\u001b[0mx_test\u001b[0m\u001b[0;34m)\u001b[0m\u001b[0;34m)\u001b[0m\u001b[0;34m\u001b[0m\u001b[0;34m\u001b[0m\u001b[0m\n\u001b[1;32m     20\u001b[0m \u001b[0mprint\u001b[0m\u001b[0;34m(\u001b[0m\u001b[0;34m'总'\u001b[0m\u001b[0;34m,\u001b[0m \u001b[0mlen\u001b[0m\u001b[0;34m(\u001b[0m\u001b[0mX_train\u001b[0m\u001b[0;34m)\u001b[0m \u001b[0;34m+\u001b[0m \u001b[0mlen\u001b[0m\u001b[0;34m(\u001b[0m\u001b[0mx_test\u001b[0m\u001b[0;34m)\u001b[0m\u001b[0;34m)\u001b[0m\u001b[0;34m\u001b[0m\u001b[0;34m\u001b[0m\u001b[0m\n",
      "\u001b[0;31mNameError\u001b[0m: name 'x_train' is not defined"
     ]
    }
   ],
   "source": [
    "# 随机选取和Class == 1一样数量的      要选择的列        要选则的数量   是否替代\n",
    "random_zero_index = np.random.choice(number_zero_index, number_one, replace=True)\n",
    "random_zero_index = np.array(random_zero_index)\n",
    "# 拼接数组\n",
    "sample = np.concatenate([random_zero_index, number_one_index])\n",
    "sample_data = data.loc[sample, :]  # 按照索引获取行\n",
    "print(len(sample_data[sample_data['Class'] == 1]))\n",
    "print('Class == 1的概率', len(sample_data[sample_data['Class'] == 1]) / len(sample_data))\n",
    "print('Class == 0的概率', len(sample_data[sample_data['Class'] == 0]) / len(sample_data))\n",
    "print(len(sample_data[sample_data['Class'] == 0]))\n",
    "X_sample_data = sample_data.loc[:, sample_data.columns != 'Class']\n",
    "y_sample_data = sample_data.loc[:, sample_data.columns == 'Class']\n",
    "# rom sklearn.cross_validation import train_test_split\n",
    "# Whole dataset 原始数据集  将来用原始的test集测试\n",
    "# 交叉验证 先进行切分 随机切分 test_size切分比例  random_state=\n",
    "from sklearn.model_selection import train_test_split\n",
    "X_train, X_test, y_train, y_test = train_test_split(X, y, test_size=0.3, random_state=0)\n",
    "print('训练样本特征数', len(x_train))\n",
    "print('训练样本测试数', len(x_test))\n",
    "print('总', len(X_train) + len(x_test))\n",
    "X_train_sample, X_test_sample, y_train_sample, y_test_sample = train_test_split(x_sample_data, y_sample_data,\n",
    "                                                                                test_size=0.3, random_state=0)\n",
    "print('模型样本特征数', len(x_train_sample))\n",
    "print('模型样本测试数', len(x_test_sample))\n",
    "print('总', len(x_train_sample) + len(x_test_sample))\n",
    "print(y_test_sample)\n",
    "#with open(\"x_train_sample.csv\") as f:\n",
    "#reader = csv.reader(x_train_sample)\n",
    "#rows = [row for row in reader]\n",
    "#for row in rows:\n",
    "#    print(row)\n",
    "##for index in range(len(x_train_sample)):\n",
    " #   set1.add(x_train_sample)\n",
    "tempX = x_train_sample.values\n",
    "print('type of tempX ',type(x_train_sample.values))\n",
    "print(\"type of x_train\",type(x_train_sample))\n",
	"#print(X_train_sample.head(1))\n"
    "#print(X_train_sample.values[1])\n"
    "#print (x_train_sample)"
   ]
  },
  {
   "cell_type": "code",
   "execution_count": null,
   "id": "06cc8e99-4b54-49ea-9f22-ac3afb912304",
   "metadata": {},
   "outputs": [],
   "source": []
  }
 ],
 "metadata": {
  "kernelspec": {
   "display_name": "Python 3 (ipykernel)",
   "language": "python",
   "name": "python3"
  },
  "language_info": {
   "codemirror_mode": {
    "name": "ipython",
    "version": 3
   },
   "file_extension": ".py",
   "mimetype": "text/x-python",
   "name": "python",
   "nbconvert_exporter": "python",
   "pygments_lexer": "ipython3",
   "version": "3.7.10"
  }
 },
 "nbformat": 4,
 "nbformat_minor": 5
}
