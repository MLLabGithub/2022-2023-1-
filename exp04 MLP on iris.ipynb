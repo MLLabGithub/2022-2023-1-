{
 "cells": [
  {
   "cell_type": "code",
   "execution_count": 2,
   "id": "f67cb5fc-ac6d-470e-bea8-87f427ddbeaf",
   "metadata": {},
   "outputs": [],
   "source": [
    "# import packages\n",
    "from sklearn.neural_network import MLPClassifier\n",
    "from sklearn.datasets import load_iris\n",
    "from sklearn.model_selection import train_test_split"
   ]
  },
  {
   "cell_type": "code",
   "execution_count": 3,
   "id": "33d6a851-a35f-4f57-9165-6675c0a6b245",
   "metadata": {},
   "outputs": [],
   "source": [
    "\n",
    "# loat the dataset\n",
    "iris = load_iris()\n",
    "\n",
    "\n",
    "# In[3]:\n",
    "\n",
    "\n",
    "# Create the samples and labels\n",
    "X = iris['data']\n",
    "y = iris['target']"
   ]
  },
  {
   "cell_type": "code",
   "execution_count": 4,
   "id": "e2669d06-2ce1-4f19-98ea-5cbf41fc0033",
   "metadata": {},
   "outputs": [],
   "source": [
    "# Split the training set and test set\n",
    "X_train, X_test, y_train, y_test = train_test_split(X, y, test_size=0.2, random_state=123)"
   ]
  },
  {
   "cell_type": "code",
   "execution_count": 5,
   "id": "01006613-d929-4fe0-bba2-b8de4b67cda9",
   "metadata": {},
   "outputs": [],
   "source": [
    "# initialize the neural network. hidden_layer is 2, 4 neurons, 5 neurons respectively. epoch is 100000, optimization method is adam. alpha is 1e-5\n",
    "clf = MLPClassifier(solver='adam', alpha=1e-5, hidden_layer_sizes=(4,5), random_state=1, max_iter=100000) \n",
    "\n"
   ]
  },
  {
   "cell_type": "code",
   "execution_count": 6,
   "id": "4ff092bf-2f76-490a-bf3a-de1b68e7ee45",
   "metadata": {},
   "outputs": [
    {
     "data": {
      "text/plain": [
       "MLPClassifier(alpha=1e-05, hidden_layer_sizes=(4, 5), max_iter=100000,\n",
       "              random_state=1)"
      ]
     },
     "execution_count": 6,
     "metadata": {},
     "output_type": "execute_result"
    }
   ],
   "source": [
    "# Training the model\n",
    "clf.fit(X_train, y_train)"
   ]
  },
  {
   "cell_type": "code",
   "execution_count": 7,
   "id": "f8ef411e-4691-4d60-9aa0-227a85a9390c",
   "metadata": {},
   "outputs": [
    {
     "data": {
      "text/plain": [
       "0.9333333333333333"
      ]
     },
     "execution_count": 7,
     "metadata": {},
     "output_type": "execute_result"
    }
   ],
   "source": [
    "# Evaluate the model\n",
    "clf.score(X_test, y_test)\n"
   ]
  },
  {
   "cell_type": "code",
   "execution_count": 8,
   "id": "8297e4c5-58d5-46e5-99bc-e191ea92842c",
   "metadata": {},
   "outputs": [
    {
     "data": {
      "text/plain": [
       "(array([5.5, 2.6, 4.4, 1.2]), 1)"
      ]
     },
     "execution_count": 8,
     "metadata": {},
     "output_type": "execute_result"
    }
   ],
   "source": [
    "\n",
    "\n",
    "X_test[9],y_test[9]"
   ]
  },
  {
   "cell_type": "code",
   "execution_count": 10,
   "id": "afdc989f-2403-461d-a64f-dce22b120901",
   "metadata": {},
   "outputs": [
    {
     "data": {
      "text/plain": [
       "array([2])"
      ]
     },
     "execution_count": 10,
     "metadata": {},
     "output_type": "execute_result"
    }
   ],
   "source": [
    "# Model predict\n",
    "clf.predict(X_test[0].reshape(-1,4))\n"
   ]
  },
  {
   "cell_type": "code",
   "execution_count": 11,
   "id": "56bd73fc-efa8-4eb5-8974-5311a8b09b1a",
   "metadata": {},
   "outputs": [
    {
     "data": {
      "text/plain": [
       "[(4, 4), (4, 5), (5, 3)]"
      ]
     },
     "execution_count": 11,
     "metadata": {},
     "output_type": "execute_result"
    }
   ],
   "source": [
    "[coef.shape for coef in clf.coefs_]"
   ]
  },
  {
   "cell_type": "code",
   "execution_count": 12,
   "id": "500e6f48-99d0-44b9-9f5a-edff73f5ef21",
   "metadata": {},
   "outputs": [
    {
     "data": {
      "text/plain": [
       "[array([[-1.19907617e-04, -4.63000232e-02, -9.39359810e-02,\n",
       "         -2.95633241e-03],\n",
       "        [-2.83236475e-02, -1.10209429e+00, -1.81681877e-02,\n",
       "         -1.11885380e-03],\n",
       "        [-2.51003579e-04,  7.99376353e-01, -1.10046823e-04,\n",
       "          2.28347788e-03],\n",
       "        [-1.44547534e-02,  1.72006840e+00, -7.83094458e-02,\n",
       "          1.64544608e-03]]),\n",
       " array([[ 1.23132353e-02,  6.23795867e-02, -1.86206045e-03,\n",
       "          2.09914471e-03,  2.88041180e-02],\n",
       "        [ 3.85944286e-01, -3.57124076e-01, -5.91276104e-02,\n",
       "         -1.61284462e+00,  1.58986453e+00],\n",
       "        [-3.64827109e-02, -8.46506234e-05,  5.77993117e-02,\n",
       "          8.89477083e-06,  2.07997668e-03],\n",
       "        [-1.78111261e-03,  1.85911360e-03,  1.85558889e-02,\n",
       "         -6.86211645e-02,  5.96771163e-03]]),\n",
       " array([[ 1.94710521e-01,  9.38306992e-01, -7.51723559e-01],\n",
       "        [ 3.65898805e-01,  6.22994478e-02, -2.09844994e+00],\n",
       "        [ 1.98755880e-03, -1.31459292e-02, -5.82982888e-03],\n",
       "        [ 8.64523917e-01, -1.96180769e+00, -4.33396157e-01],\n",
       "        [-1.89545800e+00, -4.59755494e-01,  1.26686497e+00]])]"
      ]
     },
     "execution_count": 12,
     "metadata": {},
     "output_type": "execute_result"
    }
   ],
   "source": [
    "[coef for coef in clf.coefs_]"
   ]
  },
  {
   "cell_type": "code",
   "execution_count": null,
   "id": "a71578a9-91ba-4dd4-9dd0-c1dd21be9ad8",
   "metadata": {},
   "outputs": [],
   "source": []
  }
 ],
 "metadata": {
  "kernelspec": {
   "display_name": "Python 3 (ipykernel)",
   "language": "python",
   "name": "python3"
  },
  "language_info": {
   "codemirror_mode": {
    "name": "ipython",
    "version": 3
   },
   "file_extension": ".py",
   "mimetype": "text/x-python",
   "name": "python",
   "nbconvert_exporter": "python",
   "pygments_lexer": "ipython3",
   "version": "3.7.10"
  }
 },
 "nbformat": 4,
 "nbformat_minor": 5
}
