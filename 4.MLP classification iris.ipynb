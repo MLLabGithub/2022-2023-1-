{
 "cells": [
  {
   "cell_type": "code",
   "execution_count": 1,
   "id": "e52bb050-0108-4467-ae9d-d7bc6897ee33",
   "metadata": {},
   "outputs": [],
   "source": [
    "# import packages\n",
    "from sklearn.neural_network import MLPClassifier\n",
    "from sklearn.datasets import load_iris\n",
    "from sklearn.model_selection import train_test_split"
   ]
  },
  {
   "cell_type": "code",
   "execution_count": 2,
   "id": "b08aa246-2d68-4920-b925-f65d9720f832",
   "metadata": {},
   "outputs": [],
   "source": [
    "# loat the dataset\n",
    "iris = load_iris()"
   ]
  },
  {
   "cell_type": "code",
   "execution_count": 3,
   "id": "761b5723-cc86-4f0b-af20-ada7b9e358e3",
   "metadata": {},
   "outputs": [],
   "source": [
    "# Create the samples and labels\n",
    "X = iris['data']\n",
    "y = iris['target']"
   ]
  },
  {
   "cell_type": "code",
   "execution_count": 4,
   "id": "ef2075de-63d4-4898-9e8c-91225a90534c",
   "metadata": {},
   "outputs": [],
   "source": [
    "# Split the training set and test set\n",
    "X_train, X_test, y_train, y_test = train_test_split(X, y, test_size=0.2, random_state=123)"
   ]
  },
  {
   "cell_type": "code",
   "execution_count": 11,
   "id": "4ccf17ed-1959-4758-9249-221cf2519700",
   "metadata": {},
   "outputs": [],
   "source": [
    "# initialize the neural network. hidden_layer is 3, 3 neurons every layer. epoch is 100000, optimization method is adam. alpha is 1e-5\n",
    "\n",
    "\n",
    "clf = MLPClassifier(solver='adam', alpha=1e-5, hidden_layer_sizes=(3,3), random_state=1, max_iter=100000) "
   ]
  },
  {
   "cell_type": "code",
   "execution_count": 12,
   "id": "497cf22f-4af6-4323-8dd1-28bc9f69b5f6",
   "metadata": {},
   "outputs": [
    {
     "data": {
      "text/plain": [
       "MLPClassifier(alpha=1e-05, hidden_layer_sizes=(3, 3), max_iter=100000,\n",
       "              random_state=1)"
      ]
     },
     "execution_count": 12,
     "metadata": {},
     "output_type": "execute_result"
    }
   ],
   "source": [
    "# Training the model\n",
    "clf.fit(X_train, y_train)"
   ]
  },
  {
   "cell_type": "code",
   "execution_count": 13,
   "id": "31ceb5cc-2fb1-4394-a43a-98f38971e843",
   "metadata": {},
   "outputs": [
    {
     "data": {
      "text/plain": [
       "0.9666666666666667"
      ]
     },
     "execution_count": 13,
     "metadata": {},
     "output_type": "execute_result"
    }
   ],
   "source": [
    "# Evaluate the model\n",
    "clf.score(X_test, y_test)"
   ]
  },
  {
   "cell_type": "code",
   "execution_count": 14,
   "id": "8c332dde-a38e-4337-980f-b0d81698c72b",
   "metadata": {},
   "outputs": [
    {
     "data": {
      "text/plain": [
       "(array([5.5, 2.6, 4.4, 1.2]), 1)"
      ]
     },
     "execution_count": 14,
     "metadata": {},
     "output_type": "execute_result"
    }
   ],
   "source": [
    "X_test[9],y_test[9]"
   ]
  },
  {
   "cell_type": "code",
   "execution_count": 16,
   "id": "a76cd23d-56c6-4c90-b631-8d0d237b5d00",
   "metadata": {},
   "outputs": [
    {
     "data": {
      "text/plain": [
       "array([1])"
      ]
     },
     "execution_count": 16,
     "metadata": {},
     "output_type": "execute_result"
    }
   ],
   "source": [
    "clf.predict(X_test[9].reshape(-1,4))"
   ]
  },
  {
   "cell_type": "code",
   "execution_count": null,
   "id": "2231a0f3-b95e-45d8-8e68-6263e1cfa62a",
   "metadata": {},
   "outputs": [],
   "source": [
    "X_test[9],y_test[9]"
   ]
  }
 ],
 "metadata": {
  "kernelspec": {
   "display_name": "Python 3 (ipykernel)",
   "language": "python",
   "name": "python3"
  },
  "language_info": {
   "codemirror_mode": {
    "name": "ipython",
    "version": 3
   },
   "file_extension": ".py",
   "mimetype": "text/x-python",
   "name": "python",
   "nbconvert_exporter": "python",
   "pygments_lexer": "ipython3",
   "version": "3.9.12"
  }
 },
 "nbformat": 4,
 "nbformat_minor": 5
}
